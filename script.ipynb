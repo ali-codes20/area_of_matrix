{
 "cells": [
  {
   "cell_type": "code",
   "execution_count": 2,
   "source": [
    "class Solution(object):\n",
    "    def largestIsland(self, grid):\n",
    "        N = len(grid)\n",
    "        \n",
    "        def neighbours(r, c):\n",
    "            \n",
    "            for nr, nc in ((r-1, c), (r, c-1), (r+1, c), (r, c+1)):\n",
    "                if 0 <= nr < N and 0 <= nc < N:\n",
    "                    yield nr, nc\n",
    "                    \n",
    "                    \n",
    "        def dfs (r, c, index):\n",
    "            ans = 1\n",
    "            grid [r][c] = index\n",
    "            for nr, nc in neighbours (r, c):\n",
    "                if grid[nr][nc] == 1:\n",
    "                    ans += dfs (nr, nc, index)\n",
    "            return ans\n",
    "        \n",
    "        area = {}\n",
    "        index = 2\n",
    "        for r in range(N):\n",
    "            for c in range(N):\n",
    "                if grid[r][c] == 1:\n",
    "                    area[index] = dfs (r, c, index)\n",
    "                    index += 1\n",
    "                    \n",
    "        ans = max(area.values() or [0])\n",
    "        for r in range(N):\n",
    "            for c in range(N):\n",
    "                if grid[r][c] == 0:\n",
    "                    seen = {grid [nr][nc] for nr, nc in neighbours(r, c) if grid[nr][nc] > 1}\n",
    "                    ans = max(ans, 1 + sum(area[i] for i in seen))\n",
    "                    \n",
    "        return ans\n",
    "                    "
   ],
   "outputs": [],
   "metadata": {}
  }
 ],
 "metadata": {
  "orig_nbformat": 4,
  "language_info": {
   "name": "python",
   "version": "3.8.2",
   "mimetype": "text/x-python",
   "codemirror_mode": {
    "name": "ipython",
    "version": 3
   },
   "pygments_lexer": "ipython3",
   "nbconvert_exporter": "python",
   "file_extension": ".py"
  },
  "kernelspec": {
   "name": "python3",
   "display_name": "Python 3.8.2 64-bit ('Renv': conda)"
  },
  "interpreter": {
   "hash": "e17b5fbe4060fb6a8021879796b18805007b8cdd2b20eb8e69b9580c327d1d92"
  }
 },
 "nbformat": 4,
 "nbformat_minor": 2
}